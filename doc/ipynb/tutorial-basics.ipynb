{
 "cells": [
  {
   "cell_type": "markdown",
   "metadata": {},
   "source": [
    "#Fidimag: A Basic Simulation"
   ]
  },
  {
   "cell_type": "markdown",
   "metadata": {},
   "source": [
    "TODO:\n",
    "- [x] imports\n",
    "- [x] Meshes (+ parameters)\n",
    "- [x] Material parameters\n",
    "- [x] simulation object\n",
    "- [x] adding energies\n",
    "- [x] setting magnetisation\n",
    "- [x] saving data\n",
    "- [x] relax simulation\n",
    "- [ ] structure of m array\n",
    "- [ ] viewing data"
   ]
  },
  {
   "cell_type": "markdown",
   "metadata": {},
   "source": [
    "This notebook is a guide to the essential commands required to write and run basic Fidimag simulations.\n",
    "\n",
    "The first step is to import Fidimag. Numpy and Matplotlib are also imported for later use, to demonstrate visualising simulations results."
   ]
  },
  {
   "cell_type": "code",
   "execution_count": 1,
   "metadata": {
    "collapsed": false
   },
   "outputs": [],
   "source": [
    "import fidimag\n",
    "import numpy as np\n",
    "import matplotlib.pyplot as plt"
   ]
  },
  {
   "cell_type": "markdown",
   "metadata": {},
   "source": [
    "## Meshes\n",
    "\n",
    "                           Mesh                                              Cell\n",
    "                                                                        +------------+\n",
    "          +-----+-----+-----+-----+-----+-----+                        /            /|\n",
    "         /     /     /     /     /     /     /|                       /            / |\n",
    "        +-----+-----+-----+-----+-----+-----+ |                      /            /  | dz\n",
    "       /     /     /     /     /     /     /| +                     +------------+   |\n",
    "      +-----+-----+-----+-----+-----+-----+ |/          ----->      |            |   |\n",
    "     /     /     /     /     /     /     /| +                       |            |   + \n",
    "    +-----+-----+-----+-----+-----+-----+ |/                        |            |  /\n",
    "    |     |     |     |     |     |     | +                         |            | /  dy\n",
    "    |     |     |     |     |     |     |/                          |            |/\n",
    "    +-----+-----+-----+-----+-----+-----+                           +------------+\n",
    "                                                                         dx\n",
    "\n",
    "We need to create a mesh. Meshes are created by specifying the dimensions of the finite difference cells, (dx, dy, dz) and the number of cells in each direction, (nx, ny, nz).\n",
    "\n",
    "The cell dimensions are defined by dimensionless units. The dimensions of the mesh/cells are integrated by the parameter, unit_length.\n",
    "\n",
    "In the the following example, the (cuboid) mesh consists of 6x3x1 cells (nx=6, ny=3 and nz=1), with each cell comprising of the dimensions, dx=3, dy=3 and dz=4. The unit_length = 1e-9 (nm).\n",
    "\n",
    "Thus, the total size of the mesh is 18nm x 9nm x 4nm.\n",
    "\n",
    "***Required Fidimag Function***\n",
    "\n",
    "fidimag.common.CuboidMesh(nx, ny, nz, dx, dy, dz, unit_length)\n",
    "\n",
    "\n"
   ]
  },
  {
   "cell_type": "code",
   "execution_count": 2,
   "metadata": {
    "collapsed": true
   },
   "outputs": [],
   "source": [
    "nx, ny, nz = 6, 3, 1\n",
    "dx, dy, dz = 3, 3, 4 #nm\n",
    "unit_length = 1e-9 # define the unit length of the dx units to nm.\n",
    "\n",
    "mesh = fidimag.common.CuboidMesh(nx=nx, ny=ny, nz=nz, dx=dx, dy=dy, dz=dz, unit_length=unit_length)"
   ]
  },
  {
   "cell_type": "markdown",
   "metadata": {
    "collapsed": false
   },
   "source": [
    "##Creating the Simulation Object\n",
    "\n",
    "Now we can create the simulation object.\n",
    "\n",
    "A mesh is required to create a simulation object. We also give the simulation object a name. Is this case, we call the simulation object, 'sim_tutorial_basics'\n",
    "\n",
    "***Required Fidimag Function***\n",
    "\n",
    "fidimag.micro.Sim(mesh, name)"
   ]
  },
  {
   "cell_type": "code",
   "execution_count": 3,
   "metadata": {
    "collapsed": false
   },
   "outputs": [],
   "source": [
    "sim_name = 'sim_tutorial_basics'\n",
    "\n",
    "sim = fidimag.micro.Sim(mesh, name=sim_name)"
   ]
  },
  {
   "cell_type": "markdown",
   "metadata": {},
   "source": [
    "## Adding Interactions (and specifying material parameters)\n",
    "\n",
    "The material specific interactions (and parameters) can now be added to the simulation object. Let's first specify the material specific parameters:"
   ]
  },
  {
   "cell_type": "code",
   "execution_count": 4,
   "metadata": {
    "collapsed": true
   },
   "outputs": [],
   "source": [
    "Ms = 1e6  # magnetisation saturation (A/m)\n",
    "A = 1e-12  # exchange energy constant (J/m)\n",
    "D = 1e-3  # DMI constant (J/m**2)\n",
    "Ku = 1e5  # uniaxial anisotropy constant (J/m**3)\n",
    "Kaxis = (0, 0, 1)  # uniaxial anisotropy axis\n",
    "H = (0, 0, 1e7)  # external magnetic field (A/m)"
   ]
  },
  {
   "cell_type": "markdown",
   "metadata": {},
   "source": [
    "The simulation object, sim created earlier has a property for the saturation magnetisation, Ms which is set in the following way:"
   ]
  },
  {
   "cell_type": "code",
   "execution_count": 5,
   "metadata": {
    "collapsed": true
   },
   "outputs": [],
   "source": [
    "sim.Ms = 8.0e5"
   ]
  },
  {
   "cell_type": "markdown",
   "metadata": {},
   "source": [
    "Now let's add the following interactions:\n",
    "\n",
    "- Exchange\n",
    "- Uniaxial Anisotropy\n",
    "- Dyzaloshinskii-Moriya (bulk)\n",
    "- Zeeman Field\n",
    "- Demagnetisation\n",
    "\n",
    "***Required Fidimag Functions***\n",
    "\n",
    "to a simulation object named, sim:\n",
    "\n",
    "- sim.add(interaction)\n",
    "\n",
    "where the interactions are:\n",
    "\n",
    "| interaction         | function                                           |\n",
    "|---------------------|----------------------------------------------------|\n",
    "| exchange            | fidimag.micro.UniformExchange(A)                   |\n",
    "| uniaxial anisotropy | fidimag.micro.UniaxialAnisotropy(Ku, axis)         |\n",
    "| DMI                 | fidimag.micro.DMI(D)                               |\n",
    "| Zeeman              | fidimag.micro.Zeeman(H0)                           |\n",
    "| Demag               | fidimag.micro.Demag()                              |"
   ]
  },
  {
   "cell_type": "code",
   "execution_count": 6,
   "metadata": {
    "collapsed": false
   },
   "outputs": [],
   "source": [
    "exchange = fidimag.micro.UniformExchange(A=A)\n",
    "sim.add(exchange)\n",
    "\n",
    "anis = fidimag.micro.UniaxialAnisotropy(Ku=Ku, axis=Kaxis)\n",
    "sim.add(anis)\n",
    "\n",
    "dmi = fidimag.micro.DMI(D=D)\n",
    "sim.add(dmi)\n",
    "\n",
    "zeeman = fidimag.micro.Zeeman(H0=H)\n",
    "sim.add(zeeman)\n",
    "\n",
    "demag = fidimag.micro.Demag()\n",
    "sim.add(demag)"
   ]
  },
  {
   "cell_type": "markdown",
   "metadata": {},
   "source": [
    "So, at this point the Hamiltonian is created. Now, we can set parameters in the LLG equation. The sim object has properties for the values of alpha and gamma which are set in the following way:\n"
   ]
  },
  {
   "cell_type": "code",
   "execution_count": 7,
   "metadata": {
    "collapsed": true
   },
   "outputs": [],
   "source": [
    "sim.alpha = 0.5\n",
    "sim.gamma = 2.211e5\n",
    "# sim.do_precession = True"
   ]
  },
  {
   "cell_type": "markdown",
   "metadata": {},
   "source": [
    "You can also specfiy whether the magnetisation spins precess or not. The sim object has a property, do_precession, which can be set to either True of False. In this example, let's have precession:"
   ]
  },
  {
   "cell_type": "code",
   "execution_count": 8,
   "metadata": {
    "collapsed": true
   },
   "outputs": [],
   "source": [
    "# sim.do_precession = True"
   ]
  },
  {
   "cell_type": "markdown",
   "metadata": {},
   "source": [
    "When both Hamiltonian and LLG equations are set, we need to set the intial magnetisation before we relax the system. Let's set it to all point in the z-direction:"
   ]
  },
  {
   "cell_type": "code",
   "execution_count": 9,
   "metadata": {
    "collapsed": true
   },
   "outputs": [],
   "source": [
    "m_init = (0,0,1)\n",
    "sim.set_m(m_init)"
   ]
  },
  {
   "cell_type": "markdown",
   "metadata": {},
   "source": [
    "## Relaxing the Simulation\n",
    "\n",
    "The simulation object is now set up: we're now ready to relax the magnetisation.\n",
    "\n",
    "### Time Integrator Parameters\n",
    "\n",
    "In order to do so, we need to specify the value of dt for the time integration. By default this is set to dt=1e-11.\n",
    "\n",
    "We also need to tell the simulation when to stop, through the desired stoppping precision, stopping_dmdt. By default this is set to stopping_dmdt=0.01.\n",
    "\n",
    "The maximum number of steps, max_steps the time integrator take also needs to be specified. By default this is set to 1000.\n",
    "\n",
    "### Data Saving Parameters\n",
    "\n",
    "Within the relax function, when to save the magnetisation, save_m_steps, and vtk files of the magnetisation, save_vtk_steps, are also specified. By default they are set to save every steps.\n",
    "\n",
    "When the relax function is called, a text file containing simulation data (including time, energies and average magnetisation) is created with the name sim_name.txt.\n",
    "\n",
    "Sub-directories for the (spatial) magnetisation and vtk files are also created with the names, sim_name_npys and sim_name_vtks respectively, where the relevant data is subsequently saved.\n",
    "\n",
    "***Required Fidimag Function***\n",
    "\n",
    "sim.relax(dt, stopping_dmdt, max_steps, save_m_steps, save_vtk_steps)"
   ]
  },
  {
   "cell_type": "code",
   "execution_count": 10,
   "metadata": {
    "collapsed": false
   },
   "outputs": [
    {
     "name": "stdout",
     "output_type": "stream",
     "text": [
      "step=1, time=1e-11, max_dmdt=325.733 ode_step=0\n",
      "step=2, time=2e-11, max_dmdt=0.0326831 ode_step=1.59562e-13\n",
      "step=3, time=3e-11, max_dmdt=1.50646e-05 ode_step=7.42135e-13\n"
     ]
    }
   ],
   "source": [
    "sim.relax(dt=1e-11, stopping_dmdt=0.01, max_steps=1000, save_m_steps=100, save_vtk_steps=100)"
   ]
  }
 ],
 "metadata": {
  "kernelspec": {
   "display_name": "Python 2",
   "language": "python",
   "name": "python2"
  },
  "language_info": {
   "codemirror_mode": {
    "name": "ipython",
    "version": 2
   },
   "file_extension": ".py",
   "mimetype": "text/x-python",
   "name": "python",
   "nbconvert_exporter": "python",
   "pygments_lexer": "ipython2",
   "version": "2.7.6"
  }
 },
 "nbformat": 4,
 "nbformat_minor": 0
}
